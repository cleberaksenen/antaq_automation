{
 "cells": [
  {
   "cell_type": "code",
   "execution_count": null,
   "metadata": {},
   "outputs": [],
   "source": [
    "from airflow import DAG\n",
    "from airflow.operators.python import PythonOperator\n",
    "from airflow.operators.email import EmailOperator\n",
    "from airflow.exceptions import AirflowFailException\n",
    "from datetime import datetime, timedelta\n",
    "import os\n",
    "import requests\n",
    "from bs4 import BeautifulSoup\n",
    "import pandas as pd\n",
    "from sqlalchemy import create_engine"
   ]
  },
  {
   "cell_type": "markdown",
   "metadata": {},
   "source": [
    "Definição de argumentos"
   ]
  },
  {
   "cell_type": "code",
   "execution_count": null,
   "metadata": {},
   "outputs": [],
   "source": [
    "default_args = {\n",
    "    'owner': 'airflow',\n",
    "    'depends_on_past': False,\n",
    "    'start_date': datetime(2024, 1, 1),\n",
    "    'email_on_failure': True,\n",
    "    'email_on_retry': False,\n",
    "    'retries': 2,\n",
    "    'retry_delay': timedelta(minutes=5),\n",
    "}"
   ]
  },
  {
   "cell_type": "markdown",
   "metadata": {},
   "source": [
    "Criação da DAG"
   ]
  },
  {
   "cell_type": "code",
   "execution_count": null,
   "metadata": {},
   "outputs": [],
   "source": [
    "dag = DAG(\n",
    "    'antaq_etl',\n",
    "    default_args=default_args,\n",
    "    description='ETL da base ANTAQ usando Airflow',\n",
    "    schedule_interval='@daily',\n",
    "    catchup=False,\n",
    ")"
   ]
  },
  {
   "cell_type": "markdown",
   "metadata": {},
   "source": [
    "Download dos arquivos"
   ]
  },
  {
   "cell_type": "code",
   "execution_count": null,
   "metadata": {},
   "outputs": [],
   "source": [
    "def baixar_arquivos():\n",
    "    BASE_URL = \"https://web3.antaq.gov.br/ea/sense/download.html#pt\"\n",
    "    response = requests.get(BASE_URL)\n",
    "    soup = BeautifulSoup(response.text, \"html.parser\")\n",
    "    \n",
    "    links = soup.find_all(\"a\", string=\"Clique aqui.\")\n",
    "    os.makedirs(\"/opt/airflow/dados_brutos\", exist_ok=True)\n",
    "    \n",
    "    for link in links:\n",
    "        href = link.get(\"href\")\n",
    "        if href and href.endswith(\".zip\"):\n",
    "            nome_arquivo = link.find_previous(\"td\").text.strip()\n",
    "            ano = href.split(\"/\")[-2]\n",
    "            \n",
    "            file_path = f\"/opt/airflow/dados_brutos/{nome_arquivo}_{ano}.zip\"\n",
    "            with open(file_path, \"wb\") as f:\n",
    "                f.write(requests.get(href).content)"
   ]
  },
  {
   "cell_type": "markdown",
   "metadata": {},
   "source": [
    "Transformação dos dados"
   ]
  },
  {
   "cell_type": "code",
   "execution_count": null,
   "metadata": {},
   "outputs": [],
   "source": [
    "def carregar_dados():\n",
    "    engine = create_engine(\"sqlite:////opt/airflow/dags/db/antaq.db\")\n",
    "    df = pd.DataFrame({\"coluna\": [1, 2, 3]})\n",
    "    df.to_sql(\"tabela_antaq\", engine, if_exists=\"replace\", index=False)\n"
   ]
  },
  {
   "cell_type": "markdown",
   "metadata": {},
   "source": [
    "Tarefas do Airflow"
   ]
  },
  {
   "cell_type": "code",
   "execution_count": null,
   "metadata": {},
   "outputs": [],
   "source": [
    "task_baixar = PythonOperator(\n",
    "    task_id='baixar_arquivos',\n",
    "    python_callable=baixar_arquivos,\n",
    "    dag=dag,\n",
    ")\n",
    "\n",
    "task_transformar = PythonOperator(\n",
    "    task_id='transformar_dados',\n",
    "    python_callable=transformar_dados,\n",
    "    dag=dag,\n",
    ")\n",
    "\n",
    "task_carregar = PythonOperator(\n",
    "    task_id='carregar_dados',\n",
    "    python_callable=carregar_dados,\n",
    "    dag=dag,\n",
    ")"
   ]
  },
  {
   "cell_type": "markdown",
   "metadata": {},
   "source": [
    "Notificação via e-mail"
   ]
  },
  {
   "cell_type": "code",
   "execution_count": null,
   "metadata": {},
   "outputs": [],
   "source": [
    "task_email = EmailOperator(\n",
    "    task_id='enviar_email',\n",
    "    to='cleber.aksenen@gmail.com',\n",
    "    subject='ETL ANTAQ Finalizado',\n",
    "    html_content='ETL concluído com sucesso.',\n",
    "    dag=dag,\n",
    ")"
   ]
  },
  {
   "cell_type": "markdown",
   "metadata": {},
   "source": [
    "Definição da ordem das tarefas"
   ]
  },
  {
   "cell_type": "code",
   "execution_count": null,
   "metadata": {},
   "outputs": [],
   "source": [
    "task_baixar >> task_transformar >> task_carregar >> task_email"
   ]
  }
 ],
 "metadata": {
  "kernelspec": {
   "display_name": "Python 3",
   "language": "python",
   "name": "python3"
  },
  "language_info": {
   "codemirror_mode": {
    "name": "ipython",
    "version": 3
   },
   "file_extension": ".py",
   "mimetype": "text/x-python",
   "name": "python",
   "nbconvert_exporter": "python",
   "pygments_lexer": "ipython3",
   "version": "3.13.2"
  }
 },
 "nbformat": 4,
 "nbformat_minor": 2
}
